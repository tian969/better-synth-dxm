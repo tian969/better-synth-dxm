{
 "cells": [
  {
   "cell_type": "code",
   "id": "initial_id",
   "metadata": {
    "collapsed": true,
    "ExecuteTime": {
     "end_time": "2024-09-02T11:36:29.790701Z",
     "start_time": "2024-09-02T11:36:29.613095Z"
    }
   },
   "source": [
    "import json\n",
    "\n",
    "# 读取JSON文件并转换为字典\n",
    "with open('../data/output_50_dict.json', 'r') as f:\n",
    "    image_dict = json.load(f)\n",
    "\n",
    "# 读取jsonl文件并处理每一行\n",
    "with open('../data/mgm_pretrain_stage_2.jsonl', 'r', encoding=\"utf-8\") as f:\n",
    "    lines = f.readlines()\n",
    "\n",
    "f_out = open('../data/output_50_with_cluster.jsonl', 'w')\n",
    "# 处理每一行\n",
    "for line in lines:\n",
    "    data = json.loads(line)\n",
    "    image_path = data['images'][0]\n",
    "    if image_path in image_dict:\n",
    "        cluster_info = image_dict[image_path]\n",
    "        _map = {}\n",
    "        _map['cluster'] = cluster_info['cluster']\n",
    "        _map['distance_to_center'] = cluster_info['distance_to_center']\n",
    "        data['cluster'] = _map\n",
    "        # 输出处理后的行\n",
    "        json.dump(data, f_out)"
   ],
   "outputs": [],
   "execution_count": 13
  },
  {
   "metadata": {
    "ExecuteTime": {
     "end_time": "2024-09-02T11:33:51.089345Z",
     "start_time": "2024-09-02T11:33:51.010192Z"
    }
   },
   "cell_type": "code",
   "source": [
    "# 处理每一行并保存到新的jsonl文件\n",
    "with open('../data/output_50_with_cluster.jsonl', 'w') as outfile:\n",
    "    for line in lines:\n",
    "        data = json.loads(line)\n",
    "        image_path = data['images'][0]\n",
    "        cluster_info = image_dict[image_path]\n",
    "        data['cluster'] = cluster_info['cluster']\n",
    "        data['distance_to_center'] = cluster_info['distance_to_center']\n",
    "        \n",
    "        # 写入处理后的行到新的jsonl文件\n",
    "        outfile.write(json.dumps(data) + '\\n')"
   ],
   "id": "9a46e86c87bb3c6d",
   "outputs": [],
   "execution_count": 11
  }
 ],
 "metadata": {
  "kernelspec": {
   "display_name": "Python 3",
   "language": "python",
   "name": "python3"
  },
  "language_info": {
   "codemirror_mode": {
    "name": "ipython",
    "version": 2
   },
   "file_extension": ".py",
   "mimetype": "text/x-python",
   "name": "python",
   "nbconvert_exporter": "python",
   "pygments_lexer": "ipython2",
   "version": "2.7.6"
  }
 },
 "nbformat": 4,
 "nbformat_minor": 5
}
